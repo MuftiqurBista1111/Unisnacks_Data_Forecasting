{
 "cells": [
  {
   "cell_type": "code",
   "execution_count": null,
   "metadata": {},
   "outputs": [],
   "source": [
    "import numpy as np\n",
    "import pandas as pd\n",
    "import warnings\n",
    "warnings.filterwarnings(\"ignore\")\n",
    "from datetime import date \n",
    "import datetime\n",
    "from dateutil.relativedelta import relativedelta\n",
    "from datetime import timedelta\n",
    "from statsmodels.tsa.statespace.sarimax import SARIMAX\n",
    "from statsmodels.tsa.holtwinters import ExponentialSmoothing, SimpleExpSmoothing, Holt\n",
    "import statsmodels.api as sm\n",
    "import itertools\n",
    "import math\n",
    "\n",
    "from statsmodels.tools.sm_exceptions import ConvergenceWarning\n",
    "warnings.simplefilter('ignore', ConvergenceWarning)"
   ]
  },
  {
   "cell_type": "code",
   "execution_count": null,
   "metadata": {},
   "outputs": [],
   "source": [
    "data =  pd.read_csv(\"demo_try.csv\", parse_dates=True)\n",
    "data.head()"
   ]
  },
  {
   "cell_type": "code",
   "execution_count": null,
   "metadata": {},
   "outputs": [],
   "source": [
    "data_new = data.loc[:,['Name','Date','Quantity','Item : Internal ID']]\n",
    "data_new.rename(columns={'Item : Internal ID': 'Product_Id', 'Name':'Customer_Name'}, inplace=True)"
   ]
  },
  {
   "cell_type": "code",
   "execution_count": null,
   "metadata": {},
   "outputs": [],
   "source": [
    "result = data_new.groupby(['Customer_Name', 'Product_Id', 'Date', 'Quantity']).size().reset_index()\n",
    "# result = result.count() #result['Customer_Name'].value_counts()\n",
    "result.head(6)"
   ]
  },
  {
   "cell_type": "code",
   "execution_count": null,
   "metadata": {},
   "outputs": [],
   "source": [
    "all_customer = set(data_new['Customer_Name'])"
   ]
  },
  {
   "cell_type": "code",
   "execution_count": null,
   "metadata": {},
   "outputs": [],
   "source": [
    "def lock_customer_details(customer_name, result):\n",
    "    data_final = result[result['Customer_Name'] == customer_name]\n",
    "    return data_final\n",
    "\n",
    "def prod_wise_customer(prod_wise_cus, gr_wise_pr):\n",
    "    final_ = prod_wise_cus.get_group(gr_wise_pr)\n",
    "    final_ = final_.loc[:,['Date','Quantity']]\n",
    "    final_[\"Date\"]= pd.to_datetime(final_[\"Date\"], dayfirst=True)\n",
    "    final_.set_index('Date', inplace=True)\n",
    "    final_.fillna(0,inplace=True)\n",
    "    final_ =final_['Quantity'].resample('D').sum()\n",
    "    print(final_)"
   ]
  },
  {
   "cell_type": "code",
   "execution_count": null,
   "metadata": {},
   "outputs": [],
   "source": [
    "for customer in all_customer:\n",
    "    customer_info = lock_customer_details(customer, result)\n",
    "    prod_wise_cus = customer_info.groupby(['Product_Id'])\n",
    "    for gr_wise_pr in prod_wise_cus.groups.keys():\n",
    "        final_df = prod_wise_customer(prod_wise_cus, gr_wise_pr)\n",
    "        print(final_df)\n",
    "        break\n",
    "    # print(customer_info)\n",
    "    break"
   ]
  },
  {
   "cell_type": "code",
   "execution_count": null,
   "metadata": {},
   "outputs": [],
   "source": [
    "def Simple_Exponential_Smooting(train_data, n_period):\n",
    "    model_simple_es = SimpleExpSmoothing(train_data).fit()\n",
    "    predictions_simple_es = model_simple_es.forecast(n_period)\n",
    "    test_pred_ses = predictions_simple_es[-n_period:]\n",
    "    predictions_ses_final = test_pred_ses.mask(test_pred_ses<0,0).apply(np.ceil)\n",
    "    return predictions_ses_final"
   ]
  },
  {
   "cell_type": "code",
   "execution_count": null,
   "metadata": {},
   "outputs": [],
   "source": [
    "print(Simple_Exponential_Smooting(final_df, 1))"
   ]
  },
  {
   "cell_type": "code",
   "execution_count": null,
   "metadata": {},
   "outputs": [],
   "source": []
  },
  {
   "cell_type": "code",
   "execution_count": null,
   "metadata": {},
   "outputs": [],
   "source": [
    "import numpy as np\n",
    "from datetime import datetime, timedelta\n",
    "from hmmlearn import hmm"
   ]
  },
  {
   "cell_type": "code",
   "execution_count": null,
   "metadata": {},
   "outputs": [],
   "source": [
    "# Hidden Markov Model initialization\n",
    "model = hmm.MultinomialHMM(n_components=10)"
   ]
  },
  {
   "cell_type": "code",
   "execution_count": null,
   "metadata": {},
   "outputs": [],
   "source": [
    "X = [[5, 9, 14, 55], [66, 9, 15, 5]]"
   ]
  },
  {
   "cell_type": "code",
   "execution_count": null,
   "metadata": {},
   "outputs": [],
   "source": [
    "# Fit the model to the data\n",
    "model.fit(X)"
   ]
  },
  {
   "cell_type": "code",
   "execution_count": null,
   "metadata": {},
   "outputs": [],
   "source": [
    "next_purchase = model.predict([[66, 9, 15, 5]])  # Use February data as input\n",
    "print(f\"Predicted next purchase: Product {next_purchase[0]}\")"
   ]
  },
  {
   "cell_type": "code",
   "execution_count": null,
   "metadata": {},
   "outputs": [],
   "source": []
  }
 ],
 "metadata": {
  "language_info": {
   "name": "python"
  }
 },
 "nbformat": 4,
 "nbformat_minor": 2
}
